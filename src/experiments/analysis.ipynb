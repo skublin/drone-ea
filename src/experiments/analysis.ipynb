{
 "cells": [
  {
   "cell_type": "code",
   "execution_count": 4,
   "id": "8ad0d5b8-f552-4662-a92c-36c14c492b95",
   "metadata": {},
   "outputs": [],
   "source": [
    "import os\n",
    "import pandas as pd\n",
    "import numpy as np\n",
    "import matplotlib.pyplot as plt\n",
    "import seaborn as sns"
   ]
  },
  {
   "cell_type": "code",
   "execution_count": 6,
   "id": "8af5f497-4a71-4d34-9f76-c17f07b2b890",
   "metadata": {},
   "outputs": [],
   "source": [
    "df = pd.read_csv(\"train_output.csv\")"
   ]
  },
  {
   "cell_type": "code",
   "execution_count": 8,
   "id": "42b8dc8b-7770-410f-8264-009166c40ac5",
   "metadata": {},
   "outputs": [
    {
     "data": {
      "text/html": [
       "<div>\n",
       "<style scoped>\n",
       "    .dataframe tbody tr th:only-of-type {\n",
       "        vertical-align: middle;\n",
       "    }\n",
       "\n",
       "    .dataframe tbody tr th {\n",
       "        vertical-align: top;\n",
       "    }\n",
       "\n",
       "    .dataframe thead th {\n",
       "        text-align: right;\n",
       "    }\n",
       "</style>\n",
       "<table border=\"1\" class=\"dataframe\">\n",
       "  <thead>\n",
       "    <tr style=\"text-align: right;\">\n",
       "      <th></th>\n",
       "      <th>Generation</th>\n",
       "      <th>Solution</th>\n",
       "      <th>Collected Targets</th>\n",
       "      <th>Fitness Score</th>\n",
       "      <th>Time</th>\n",
       "    </tr>\n",
       "  </thead>\n",
       "  <tbody>\n",
       "    <tr>\n",
       "      <th>count</th>\n",
       "      <td>7919.000000</td>\n",
       "      <td>7919.000000</td>\n",
       "      <td>7919.000000</td>\n",
       "      <td>7919.000000</td>\n",
       "      <td>7919.000000</td>\n",
       "    </tr>\n",
       "    <tr>\n",
       "      <th>mean</th>\n",
       "      <td>20.845435</td>\n",
       "      <td>49.969188</td>\n",
       "      <td>0.661195</td>\n",
       "      <td>0.108597</td>\n",
       "      <td>47.431163</td>\n",
       "    </tr>\n",
       "    <tr>\n",
       "      <th>std</th>\n",
       "      <td>11.372912</td>\n",
       "      <td>28.576744</td>\n",
       "      <td>0.790508</td>\n",
       "      <td>0.020522</td>\n",
       "      <td>5.140654</td>\n",
       "    </tr>\n",
       "    <tr>\n",
       "      <th>min</th>\n",
       "      <td>1.000000</td>\n",
       "      <td>0.000000</td>\n",
       "      <td>0.000000</td>\n",
       "      <td>0.088442</td>\n",
       "      <td>38.250000</td>\n",
       "    </tr>\n",
       "    <tr>\n",
       "      <th>25%</th>\n",
       "      <td>11.000000</td>\n",
       "      <td>25.000000</td>\n",
       "      <td>0.000000</td>\n",
       "      <td>0.097825</td>\n",
       "      <td>44.216667</td>\n",
       "    </tr>\n",
       "    <tr>\n",
       "      <th>50%</th>\n",
       "      <td>21.000000</td>\n",
       "      <td>50.000000</td>\n",
       "      <td>1.000000</td>\n",
       "      <td>0.103101</td>\n",
       "      <td>46.383333</td>\n",
       "    </tr>\n",
       "    <tr>\n",
       "      <th>75%</th>\n",
       "      <td>30.500000</td>\n",
       "      <td>75.000000</td>\n",
       "      <td>1.000000</td>\n",
       "      <td>0.111561</td>\n",
       "      <td>49.183333</td>\n",
       "    </tr>\n",
       "    <tr>\n",
       "      <th>max</th>\n",
       "      <td>40.000000</td>\n",
       "      <td>99.000000</td>\n",
       "      <td>5.000000</td>\n",
       "      <td>0.336427</td>\n",
       "      <td>90.866667</td>\n",
       "    </tr>\n",
       "  </tbody>\n",
       "</table>\n",
       "</div>"
      ],
      "text/plain": [
       "        Generation     Solution  Collected Targets  Fitness Score         Time\n",
       "count  7919.000000  7919.000000        7919.000000    7919.000000  7919.000000\n",
       "mean     20.845435    49.969188           0.661195       0.108597    47.431163\n",
       "std      11.372912    28.576744           0.790508       0.020522     5.140654\n",
       "min       1.000000     0.000000           0.000000       0.088442    38.250000\n",
       "25%      11.000000    25.000000           0.000000       0.097825    44.216667\n",
       "50%      21.000000    50.000000           1.000000       0.103101    46.383333\n",
       "75%      30.500000    75.000000           1.000000       0.111561    49.183333\n",
       "max      40.000000    99.000000           5.000000       0.336427    90.866667"
      ]
     },
     "execution_count": 8,
     "metadata": {},
     "output_type": "execute_result"
    }
   ],
   "source": [
    "df.describe()"
   ]
  },
  {
   "cell_type": "code",
   "execution_count": 26,
   "id": "59f69fb2-357a-42f9-aa87-1e3d72456016",
   "metadata": {},
   "outputs": [
    {
     "data": {
      "text/html": [
       "<div>\n",
       "<style scoped>\n",
       "    .dataframe tbody tr th:only-of-type {\n",
       "        vertical-align: middle;\n",
       "    }\n",
       "\n",
       "    .dataframe tbody tr th {\n",
       "        vertical-align: top;\n",
       "    }\n",
       "\n",
       "    .dataframe thead th {\n",
       "        text-align: right;\n",
       "    }\n",
       "</style>\n",
       "<table border=\"1\" class=\"dataframe\">\n",
       "  <thead>\n",
       "    <tr style=\"text-align: right;\">\n",
       "      <th></th>\n",
       "      <th>Generation</th>\n",
       "      <th>Solution</th>\n",
       "      <th>Collected Targets</th>\n",
       "      <th>Fitness Score</th>\n",
       "      <th>Time</th>\n",
       "    </tr>\n",
       "  </thead>\n",
       "  <tbody>\n",
       "    <tr>\n",
       "      <th>4657</th>\n",
       "      <td>25</td>\n",
       "      <td>4</td>\n",
       "      <td>2</td>\n",
       "      <td>0.336427</td>\n",
       "      <td>90.866667</td>\n",
       "    </tr>\n",
       "    <tr>\n",
       "      <th>4756</th>\n",
       "      <td>25</td>\n",
       "      <td>4</td>\n",
       "      <td>2</td>\n",
       "      <td>0.336427</td>\n",
       "      <td>90.866667</td>\n",
       "    </tr>\n",
       "  </tbody>\n",
       "</table>\n",
       "</div>"
      ],
      "text/plain": [
       "      Generation  Solution  Collected Targets  Fitness Score       Time\n",
       "4657          25         4                  2       0.336427  90.866667\n",
       "4756          25         4                  2       0.336427  90.866667"
      ]
     },
     "execution_count": 26,
     "metadata": {},
     "output_type": "execute_result"
    }
   ],
   "source": [
    "max_value = df.describe().loc[['max']]['Fitness Score'].item()\n",
    "df[df['Fitness Score'] == max_value]"
   ]
  },
  {
   "cell_type": "code",
   "execution_count": 12,
   "id": "4c16b14a-29c0-41dc-ba14-56d0be82d351",
   "metadata": {},
   "outputs": [],
   "source": [
    "def analyze_experiment(data_folder):\n",
    "    \"\"\"\n",
    "    Analizuje wyniki eksperymentów w folderze i generuje wykresy.\n",
    "    \"\"\"\n",
    "    # Przechodzi przez wszystkie pliki w folderze\n",
    "    results = []\n",
    "    for file in os.listdir(data_folder):\n",
    "        if file.endswith(\".csv\"):\n",
    "            df = pd.read_csv(os.path.join(data_folder, file))\n",
    "            results.append(df)\n",
    "\n",
    "    # Łączenie wyników w jedną tabelę\n",
    "    full_data = pd.concat(results, axis=0, ignore_index=True)\n",
    "    full_data['Generation'] = full_data['Generation'].astype(int)\n",
    "\n",
    "    return full_data"
   ]
  },
  {
   "cell_type": "code",
   "execution_count": 14,
   "id": "1bb2b667-ecc5-446c-a4df-615b401dc9d3",
   "metadata": {},
   "outputs": [],
   "source": [
    "def plot_fitness_evolution(data, output_path):\n",
    "    \"\"\"\n",
    "    Generuje wykres ewolucji fitness.\n",
    "    \"\"\"\n",
    "    plt.figure(figsize=(10, 6))\n",
    "    generations = data['Generation'].unique()\n",
    "    avg_fitness = data.groupby('Generation')['Fitness Score'].mean()\n",
    "    max_fitness = data.groupby('Generation')['Fitness Score'].max()\n",
    "    min_fitness = data.groupby('Generation')['Fitness Score'].min()\n",
    "    std_fitness = data.groupby('Generation')['Fitness Score'].std()\n",
    "\n",
    "    # Rysowanie średniego fitness z odchyleniem standardowym\n",
    "    plt.plot(generations, avg_fitness, label=\"Średni fitness\", color=\"blue\")\n",
    "    plt.fill_between(\n",
    "        generations, \n",
    "        avg_fitness - std_fitness, \n",
    "        avg_fitness + std_fitness, \n",
    "        color=\"blue\", alpha=0.2, label=\"Odchylenie standardowe\"\n",
    "    )\n",
    "\n",
    "    # Rysowanie najlepszego i najgorszego fitness\n",
    "    plt.plot(generations, max_fitness, label=\"Najlepszy fitness\", color=\"green\", linestyle=\"--\")\n",
    "    plt.plot(generations, min_fitness, label=\"Najgorszy fitness\", color=\"red\", linestyle=\"--\")\n",
    "\n",
    "    # Opis osi i tytuł\n",
    "    plt.xlabel(\"Generacja\")\n",
    "    plt.ylabel(\"Fitness\")\n",
    "    plt.title(\"Ewolucja fitness w trakcie eksperymentu\")\n",
    "    plt.legend()\n",
    "    plt.grid()\n",
    "\n",
    "    # Zapis wykresu\n",
    "    plt.savefig(os.path.join(output_path, \"fitness_evolution.png\"))\n",
    "    plt.close()"
   ]
  },
  {
   "cell_type": "code",
   "execution_count": 16,
   "id": "c66694eb-3d33-4724-a4a9-8112c14b04b8",
   "metadata": {},
   "outputs": [],
   "source": [
    "def plot_histogram(data, column, output_path):\n",
    "    \"\"\"\n",
    "    Generuje histogram dla wybranego parametru (np. trafionych celów lub czasu).\n",
    "    \"\"\"\n",
    "    plt.figure(figsize=(8, 6))\n",
    "    sns.histplot(data[column], kde=True, bins=20)\n",
    "    plt.title(f\"Histogram wartości: {column}\")\n",
    "    plt.xlabel(column)\n",
    "    plt.ylabel(\"Liczba rozwiązań\")\n",
    "    plt.grid()\n",
    "\n",
    "    # Zapis wykresu\n",
    "    plt.savefig(os.path.join(output_path, f\"{column}_histogram.png\"))\n",
    "    plt.close()"
   ]
  },
  {
   "cell_type": "code",
   "execution_count": 22,
   "id": "30bb0ee8-0139-438a-b024-cfbbef4447c8",
   "metadata": {},
   "outputs": [],
   "source": [
    "def main():\n",
    "    # Ścieżka do folderu z danymi\n",
    "    experiment_folder = \"./\"\n",
    "    output_path = \"./\"\n",
    "    os.makedirs(output_path, exist_ok=True)\n",
    "\n",
    "    # Analiza danych\n",
    "    data = analyze_experiment(experiment_folder)\n",
    "\n",
    "    # Generowanie wykresów\n",
    "    plot_fitness_evolution(data, output_path)\n",
    "    plot_histogram(data, \"Collected Targets\", output_path)\n",
    "    plot_histogram(data, \"Time\", output_path)\n",
    "\n",
    "    print(f\"Wykresy zapisane w folderze: {output_path}\")"
   ]
  },
  {
   "cell_type": "code",
   "execution_count": 24,
   "id": "8562d214-998b-4c5e-b28d-97acd612b82d",
   "metadata": {},
   "outputs": [
    {
     "name": "stdout",
     "output_type": "stream",
     "text": [
      "Wykresy zapisane w folderze: ./\n"
     ]
    }
   ],
   "source": [
    "main()"
   ]
  },
  {
   "cell_type": "code",
   "execution_count": null,
   "id": "c18c5f3f-2d77-4bca-bda4-6146ec8eb8f7",
   "metadata": {},
   "outputs": [],
   "source": []
  }
 ],
 "metadata": {
  "kernelspec": {
   "display_name": "Python 3 (ipykernel)",
   "language": "python",
   "name": "python3"
  },
  "language_info": {
   "codemirror_mode": {
    "name": "ipython",
    "version": 3
   },
   "file_extension": ".py",
   "mimetype": "text/x-python",
   "name": "python",
   "nbconvert_exporter": "python",
   "pygments_lexer": "ipython3",
   "version": "3.11.5"
  }
 },
 "nbformat": 4,
 "nbformat_minor": 5
}
